{
 "cells": [
  {
   "cell_type": "code",
   "execution_count": null,
   "metadata": {},
   "outputs": [],
   "source": [
    "import matplotlib.pyplot as plt #For Visualization\n",
    "import numpy as np              #For handling arrays\n",
    "import pandas as pd             # For handling data\n",
    "#Define Directories for train, test & Validation Set\n",
    "train_path = '/content/dataset/cnn/pneumonia_revamped/train'\n",
    "test_path = '/content/dataset/cnn/pneumonia_revamped/test'\n",
    "valid_path = '/content/dataset/cnn/pneumonia_revamped/val'\n",
    "#Define some often used standard parameters\n",
    "#The batch refers to the number of training examples utilized in one #iteration\n",
    "batch_size = 16 \n",
    "#The dimension of the images we are going to define is 500x500 img_height = 500\n",
    "img_width = 500"
   ]
  },
  {
   "cell_type": "code",
   "execution_count": null,
   "metadata": {},
   "outputs": [],
   "source": [
    "from tensorflow.keras.preprocessing.image import ImageDataGenerator\n",
    "# Create Image Data Generator for Train Set\n",
    "image_gen = ImageDataGenerator(\n",
    "                                  rescale = 1./255,\n",
    "                                  shear_range = 0.2,\n",
    "                                  zoom_range = 0.2,\n",
    "                                  horizontal_flip = True,          \n",
    "                               )\n",
    "# Create Image Data Generator for Test/Validation Set\n",
    "test_data_gen = ImageDataGenerator(rescale = 1./255)"
   ]
  },
  {
   "cell_type": "code",
   "execution_count": null,
   "metadata": {},
   "outputs": [],
   "source": [
    "train = image_gen.flow_from_directory(\n",
    "      train_path,\n",
    "      target_size=(img_height, img_width),\n",
    "      color_mode='grayscale',\n",
    "      class_mode='binary',\n",
    "      batch_size=batch_size\n",
    "      )\n",
    "test = test_data_gen.flow_from_directory(\n",
    "      test_path,\n",
    "      target_size=(img_height, img_width),\n",
    "      color_mode='grayscale',\n",
    "      shuffle=False, \n",
    "#setting shuffle as False just so we can later compare it with predicted values without having indexing problem \n",
    "      class_mode='binary',\n",
    "      batch_size=batch_size\n",
    "      )\n",
    "valid = test_data_gen.flow_from_directory(\n",
    "      valid_path,\n",
    "      target_size=(img_height, img_width),\n",
    "      color_mode='grayscale',\n",
    "      class_mode='binary', \n",
    "      batch_size=batch_size\n",
    "      )"
   ]
  },
  {
   "cell_type": "code",
   "execution_count": null,
   "metadata": {},
   "outputs": [],
   "source": [
    "plt.figure(figsize=(12, 12))\n",
    "for i in range(0, 10):\n",
    "    plt.subplot(2, 5, i+1)\n",
    "    for X_batch, Y_batch in train:\n",
    "        image = X_batch[0]        \n",
    "        dic = {0:’NORMAL’, 1:’PNEUMONIA’}\n",
    "        plt.title(dic.get(Y_batch[0]))\n",
    "        plt.axis(’off’)\n",
    "        plt.imshow(np.squeeze(image),cmap=’gray’,interpolation=’nearest’)\n",
    "        break\n",
    "plt.tight_layout()\n",
    "plt.show()"
   ]
  },
  {
   "cell_type": "code",
   "execution_count": null,
   "metadata": {},
   "outputs": [],
   "source": [
    "from tensorflow.keras.models import Sequential\n",
    "from tensorflow.keras.layers import Dense,Conv2D,Flatten,MaxPooling2D\n",
    "from tensorflow.keras.callbacks import EarlyStopping,ReduceLROnPlateau"
   ]
  },
  {
   "cell_type": "code",
   "execution_count": null,
   "metadata": {},
   "outputs": [],
   "source": [
    "cnn = Sequential()\n",
    "cnn.add(Conv2D(32, (3, 3), activation=\"relu\", input_shape=(img_width, img_height, 1)))\n",
    "cnn.add(MaxPooling2D(pool_size = (2, 2)))\n",
    "cnn.add(Conv2D(32, (3, 3), activation=\"relu\", input_shape=(img_width, img_height, 1)))\n",
    "cnn.add(MaxPooling2D(pool_size = (2, 2)))\n",
    "cnn.add(Conv2D(32, (3, 3), activation=\"relu\", input_shape=(img_width, img_height, 1)))\n",
    "cnn.add(MaxPooling2D(pool_size = (2, 2)))\n",
    "cnn.add(Conv2D(64, (3, 3), activation=\"relu\", input_shape=(img_width, img_height, 1)))\n",
    "cnn.add(MaxPooling2D(pool_size = (2, 2)))\n",
    "cnn.add(Conv2D(64, (3, 3), activation=\"relu\", input_shape=(img_width, img_height, 1)))\n",
    "cnn.add(MaxPooling2D(pool_size = (2, 2)))\n",
    "cnn.add(Flatten())\n",
    "cnn.add(Dense(activation = 'relu', units = 128))\n",
    "cnn.add(Dense(activation = 'relu', units = 64))\n",
    "cnn.add(Dense(activation = 'sigmoid', units = 1))\n",
    "cnn.compile(optimizer = 'adam', loss = 'binary_crossentropy', metrics = ['accuracy'])"
   ]
  },
  {
   "cell_type": "code",
   "execution_count": null,
   "metadata": {},
   "outputs": [],
   "source": [
    "# Hyperparameters of Conv2D\n",
    "Conv2D(\n",
    "    filters,\n",
    "    kernel_size,\n",
    "    strides=(1, 1),\n",
    "    padding=\"valid\",\n",
    "    activation=None,\n",
    "    input_shape=(height,width,color channel)\n",
    "    )\n",
    "# Hyperparameters of MaxPooling2D \n",
    "MaxPooling2D(\n",
    "    pool_size=(2, 2), strides=None, padding=\"valid\"\n",
    "    )"
   ]
  },
  {
   "cell_type": "code",
   "execution_count": null,
   "metadata": {},
   "outputs": [],
   "source": [
    "from tensorflow.keras.utils import plot_model\n",
    "plot_model(cnn,show_shapes=True, show_layer_names=True, rankdir='TB', expand_nested=True)"
   ]
  },
  {
   "cell_type": "code",
   "execution_count": null,
   "metadata": {},
   "outputs": [],
   "source": [
    "early = EarlyStopping(monitor=”val_loss”, mode=”min”, patience=3)\n",
    "learning_rate_reduction = ReduceLROnPlateau(monitor=’val_loss’, patience = 2, verbose=1,factor=0.3, min_lr=0.000001)\n",
    "callbacks_list = [ early, learning_rate_reduction]"
   ]
  },
  {
   "cell_type": "code",
   "execution_count": null,
   "metadata": {},
   "outputs": [],
   "source": [
    "from sklearn.utils.class_weight import compute_class_weight\n",
    "weights = compute_class_weight('balanced', np.unique(train.classes), train.classes)\n",
    "cw = dict(zip( np.unique(train.classes), weights))\n",
    "print(cw)"
   ]
  },
  {
   "cell_type": "code",
   "execution_count": null,
   "metadata": {},
   "outputs": [],
   "source": [
    "cnn.fit(train,epochs=25, validation_data=valid, class_weight=cw, callbacks=callbacks_list)"
   ]
  },
  {
   "cell_type": "code",
   "execution_count": null,
   "metadata": {},
   "outputs": [],
   "source": [
    "pd.DataFrame(cnn.history.history).plot()"
   ]
  },
  {
   "cell_type": "code",
   "execution_count": null,
   "metadata": {},
   "outputs": [],
   "source": [
    "test_accu = cnn.evaluate(test)\n",
    "print('The testing accuracy is :',test_accu[1]*100, '%')"
   ]
  },
  {
   "cell_type": "code",
   "execution_count": null,
   "metadata": {},
   "outputs": [],
   "source": [
    "preds = cnn.predict(test,verbose=1)"
   ]
  },
  {
   "cell_type": "code",
   "execution_count": null,
   "metadata": {},
   "outputs": [],
   "source": [
    "predictions = preds.copy()\n",
    "predictions[predictions <= 0.5] = 0\n",
    "predictions[predictions > 0.5] = 1"
   ]
  },
  {
   "cell_type": "code",
   "execution_count": null,
   "metadata": {},
   "outputs": [],
   "source": [
    "from sklearn.metrics import classification_report,confusion_matrix\n",
    "cm = pd.DataFrame(data=confusion_matrix(test.classes, predictions, labels=[0, 1]),index=[\"Actual Normal\", \"Actual Pneumonia\"],\n",
    "columns=[\"Predicted Normal\", \"Predicted Pneumonia\"])\n",
    "import seaborn as sns\n",
    "sns.heatmap(cm,annot=True,fmt=\"d\")"
   ]
  },
  {
   "cell_type": "code",
   "execution_count": null,
   "metadata": {},
   "outputs": [],
   "source": [
    "print(classification_report(y_true=test.classes,y_pred=predictions,target_names =['NORMAL','PNEUMONIA']))"
   ]
  },
  {
   "cell_type": "code",
   "execution_count": null,
   "metadata": {},
   "outputs": [],
   "source": [
    "test.reset()\n",
    "x=np.concatenate([test.next()[0] for i in range(test.__len__())])\n",
    "y=np.concatenate([test.next()[1] for i in range(test.__len__())])\n",
    "print(x.shape)\n",
    "print(y.shape)\n",
    "#this little code above extracts the images from test Data iterator without shuffling the sequence\n",
    "# x contains image array and y has labels \n",
    "dic = {0:'NORMAL', 1:'PNEUMONIA'}\n",
    "plt.figure(figsize=(20,20))\n",
    "for i in range(0+228, 9+228):\n",
    "  plt.subplot(3, 3, (i-228)+1)\n",
    "  if preds[i, 0] >= 0.5: \n",
    "      out = ('{:.2%} probability of being Pneumonia case'.format(preds[i][0]))\n",
    "      \n",
    "      \n",
    "  else: \n",
    "      out = ('{:.2%} probability of being Normal case'.format(1-preds[i][0]))\n",
    "plt.title(out+\"\\n Actual case : \"+ dic.get(y[i]))    \n",
    "  plt.imshow(np.squeeze(x[i]))\n",
    "  plt.axis('off')\n",
    "plt.show()"
   ]
  },
  {
   "cell_type": "code",
   "execution_count": null,
   "metadata": {},
   "outputs": [],
   "source": [
    "# Testing with my own Chest X-Ray\n",
    "hardik_path = '/content/drive/My Drive/unsegregated /IMG_20201023_204205928~2.jpg'\n",
    "from tensorflow.keras.preprocessing import image\n",
    "hardik_img = image.load_img(hardik_path, target_size=(500, 500),color_mode='grayscale')\n",
    "# Preprocessing the image\n",
    "pp_hardik_img = image.img_to_array(hardik_img)\n",
    "pp_hardik_img = pp_hardik_img/255\n",
    "pp_hardik_img = np.expand_dims(pp_hardik_img, axis=0)\n",
    "#predict\n",
    "hardik_preds= cnn.predict(pp_hardik_img)\n",
    "#print\n",
    "plt.figure(figsize=(6,6))\n",
    "plt.axis('off')\n",
    "if hardik_preds>= 0.5: \n",
    "    out = ('I am {:.2%} percent confirmed that this is a Pneumonia case'.format(hardik_preds[0][0]))\n",
    "    \n",
    "else: \n",
    "    out = ('I am {:.2%} percent confirmed that this is a Normal case'.format(1-hardik_preds[0][0]))\n",
    "plt.title(\"Hardik's Chest X-Ray\\n\"+out)  \n",
    "plt.imshow(np.squeeze(pp_hardik_img))\n",
    "plt.show()"
   ]
  }
 ],
 "metadata": {
  "kernelspec": {
   "display_name": "Python 3",
   "language": "python",
   "name": "python3"
  },
  "language_info": {
   "codemirror_mode": {
    "name": "ipython",
    "version": 3
   },
   "file_extension": ".py",
   "mimetype": "text/x-python",
   "name": "python",
   "nbconvert_exporter": "python",
   "pygments_lexer": "ipython3",
   "version": "3.7.7"
  }
 },
 "nbformat": 4,
 "nbformat_minor": 4
}
